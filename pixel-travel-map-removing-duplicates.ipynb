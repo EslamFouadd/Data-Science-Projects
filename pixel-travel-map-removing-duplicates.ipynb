{
 "cells": [
  {
   "cell_type": "markdown",
   "id": "cb0cf424",
   "metadata": {
    "papermill": {
     "duration": 0.006314,
     "end_time": "2022-12-21T13:59:52.092481",
     "exception": false,
     "start_time": "2022-12-21T13:59:52.086167",
     "status": "completed"
    },
    "tags": []
   },
   "source": [
    "# Introduction"
   ]
  },
  {
   "cell_type": "markdown",
   "id": "72dd295a",
   "metadata": {
    "papermill": {
     "duration": 0.005015,
     "end_time": "2022-12-21T13:59:52.103950",
     "exception": false,
     "start_time": "2022-12-21T13:59:52.098935",
     "status": "completed"
    },
    "tags": []
   },
   "source": [
    "Please also upvote the original notebooks:\n",
    "\n",
    "https://www.kaggle.com/code/oxzplvifi/pixel-travel-map\n",
    "\n",
    "https://www.kaggle.com/code/crodoc/82409-improved-baseline-santa-2022\n",
    "\n",
    "The two things new here:\n",
    "- Removing the duplicates as post processing step\n",
    "- Adding progress bar"
   ]
  },
  {
   "cell_type": "markdown",
   "id": "bf412e8f",
   "metadata": {
    "papermill": {
     "duration": 0.004925,
     "end_time": "2022-12-21T13:59:52.114065",
     "exception": false,
     "start_time": "2022-12-21T13:59:52.109140",
     "status": "completed"
    },
    "tags": []
   },
   "source": [
    "This notebook uses a binary matrix in order to keep a record of each pixel that has been visited, called a \"pixel travel map\". During its travels, the arm is asked to follow three simple rules:\n",
    "* If it is possible to go one step down, then ignore all other directions and go one step down. This is with the intention of avoiding \"travel holes\" in the map which could become costly to return to once we are far away.\n",
    "* If it is not possible to go one step down, then consider all possible single-link and double-link motions and choose the one that (1) takes us to an unvisited pixel, and (2) has the least cost.\n",
    "* If we become surrounded by visited pixels, then we travel to the nearest unvisited pixel no matter how many visited pixels we need to re-visit.\n",
    "\n",
    "We start by loading the functions kindly shared by the organizers:\n",
    "* https://www.kaggle.com/code/ryanholbrook/getting-started-with-santa-2022"
   ]
  },
  {
   "cell_type": "markdown",
   "id": "720333da",
   "metadata": {
    "papermill": {
     "duration": 0.005273,
     "end_time": "2022-12-21T13:59:52.124663",
     "exception": false,
     "start_time": "2022-12-21T13:59:52.119390",
     "status": "completed"
    },
    "tags": []
   },
   "source": [
    "The path compression basically tries to do move as many links the same time as possible to save on reconfiguration cost."
   ]
  },
  {
   "cell_type": "code",
   "execution_count": 1,
   "id": "af17a2f7",
   "metadata": {
    "_kg_hide-input": true,
    "execution": {
     "iopub.execute_input": "2022-12-21T13:59:52.139459Z",
     "iopub.status.busy": "2022-12-21T13:59:52.138823Z",
     "iopub.status.idle": "2022-12-21T13:59:52.320807Z",
     "shell.execute_reply": "2022-12-21T13:59:52.319154Z"
    },
    "papermill": {
     "duration": 0.193395,
     "end_time": "2022-12-21T13:59:52.324639",
     "exception": false,
     "start_time": "2022-12-21T13:59:52.131244",
     "status": "completed"
    },
    "tags": []
   },
   "outputs": [],
   "source": [
    "from functools import reduce\n",
    "from tqdm.notebook import tqdm\n",
    "\n",
    "def get_position(config):\n",
    "    return reduce(lambda p, q: (p[0] + q[0], p[1] + q[1]), config, (0, 0))\n",
    "\n",
    "def compress_path(path):\n",
    "    \n",
    "    if len(path) > 2:\n",
    "        \n",
    "        new_path = []\n",
    "        \n",
    "        max_conf_dist = 1\n",
    "        \n",
    "        r = [[] for _ in range(len(path[0]))]\n",
    "        \n",
    "        for p in path:\n",
    "            for i, c in enumerate(p):\n",
    "\n",
    "                if len(r[i]) == 0 or r[i][-1] != c:\n",
    "                    \n",
    "                    if c not in r[i]:\n",
    "                        r[i].append(c)\n",
    "                    else:\n",
    "                        r[i] = r[i][:r[i].index(c) + 1]\n",
    "                        \n",
    "                    assert r[i][-1] == c\n",
    "        \n",
    "        max_conf_dist = max([len(r_) for r_ in r])\n",
    "        \n",
    "        for i in range(max_conf_dist):\n",
    "            \n",
    "            new_conf = []\n",
    "            \n",
    "            for _, r_ in enumerate(r):\n",
    "                \n",
    "                if i < len(r_):\n",
    "                    c_ = r_[i]\n",
    "                else:\n",
    "                    c_ = r_[-1]\n",
    "                \n",
    "                new_conf.append(c_)\n",
    "            \n",
    "            new_path.append(new_conf)\n",
    "            \n",
    "        return new_path\n",
    "                               \n",
    "        \n",
    "    return path\n",
    "\n",
    "def rotate_link(vector, direction):\n",
    "    x, y = vector\n",
    "    if direction == 1:  # counter-clockwise\n",
    "        if y >= x and y > -x:\n",
    "            x -= 1\n",
    "        elif y > x and y <= -x:\n",
    "            y -= 1\n",
    "        elif y <= x and y < -x:\n",
    "            x += 1\n",
    "        else:\n",
    "            y += 1\n",
    "    elif direction == -1:  # clockwise\n",
    "        if y > x and y >= -x:\n",
    "            x += 1\n",
    "        elif y >= x and y < -x:\n",
    "            y += 1\n",
    "        elif y < x and y <= -x:\n",
    "            x -= 1\n",
    "        else:\n",
    "            y -= 1\n",
    "    return (x, y)\n",
    "\n",
    "def rotate(config, i, direction):\n",
    "    config = config.copy()\n",
    "    config[i] = rotate_link(config[i], direction)\n",
    "    return config\n",
    "\n",
    "def get_direction(u, v):\n",
    "    \"\"\"Returns the sign of the angle from u to v.\"\"\"\n",
    "    direction = np.sign(np.cross(u, v))\n",
    "    if direction == 0 and np.dot(u, v) < 0:\n",
    "        direction = 1\n",
    "    return direction\n",
    "\n",
    "def color_cost(from_position, to_position, image, color_scale=3.0):\n",
    "    return np.abs(image[to_position] - image[from_position]).sum() * color_scale\n",
    "\n",
    "def get_path_to_point(config, point):\n",
    "    \"\"\"Find a path of configurations to `point` starting at `config`.\"\"\"\n",
    "    path = [config]\n",
    "    # Rotate each link, starting with the largest, until the point can\n",
    "    # be reached by the remaining links. The last link must reach the\n",
    "    # point itself.\n",
    "    for i in range(len(config)):\n",
    "        link = config[i]\n",
    "        base = get_position(config[:i])\n",
    "        relbase = (point[0] - base[0], point[1] - base[1])\n",
    "        position = get_position(config[:i+1])\n",
    "        relpos = (point[0] - position[0], point[1] - position[1])\n",
    "        radius = reduce(lambda r, link: r + max(abs(link[0]), abs(link[1])), config[i+1:], 0)\n",
    "        # Special case when next-to-last link lands on point.\n",
    "        if radius == 1 and relpos == (0, 0):\n",
    "            config = rotate(config, i, 1)\n",
    "            if get_position(config) == point:  # Thanks @pgeiger\n",
    "                path.append(config)\n",
    "                break\n",
    "            else:\n",
    "                continue\n",
    "        while np.max(np.abs(relpos)) > radius:\n",
    "            direction = get_direction(link, relbase)\n",
    "            config = rotate(config, i, direction)\n",
    "            path.append(config)\n",
    "            link = config[i]\n",
    "            base = get_position(config[:i])\n",
    "            relbase = (point[0] - base[0], point[1] - base[1])\n",
    "            position = get_position(config[:i+1])\n",
    "            relpos = (point[0] - position[0], point[1] - position[1])\n",
    "            radius = reduce(lambda r, link: r + max(abs(link[0]), abs(link[1])), config[i+1:], 0)\n",
    "    assert get_position(path[-1]) == point\n",
    "    \n",
    "    path = compress_path(path)\n",
    "    \n",
    "    return path\n",
    "\n",
    "def get_path_to_configuration(from_config, to_config):\n",
    "    path = [from_config]\n",
    "    config = from_config.copy()\n",
    "    while config != to_config:\n",
    "        for i in range(len(config)):\n",
    "            config = rotate(config, i, get_direction(config[i], to_config[i]))\n",
    "        path.append(config)\n",
    "    assert path[-1] == to_config\n",
    "    \n",
    "    path = compress_path(path)\n",
    "    \n",
    "    return path\n",
    "\n",
    "def config_to_string(config):\n",
    "    return ';'.join([' '.join(map(str, vector)) for vector in config])"
   ]
  },
  {
   "cell_type": "markdown",
   "id": "8a9b78b8",
   "metadata": {
    "papermill": {
     "duration": 0.004975,
     "end_time": "2022-12-21T13:59:52.334585",
     "exception": false,
     "start_time": "2022-12-21T13:59:52.329610",
     "status": "completed"
    },
    "tags": []
   },
   "source": [
    "Next, in order to simplify conversion of coordinates during our travels from Cartesian to Array and viceversa, we flip the X axis and transpose the X-Y axes of the image so that the conversion becomes:\n",
    "* From Cartesian coordinates to Array indices we sum the image radius to the X and Y coordinates.\n",
    "* From Array indices to Cartesian coordinates we subtract the image radius from the X and Y indices."
   ]
  },
  {
   "cell_type": "code",
   "execution_count": 2,
   "id": "551cee5c",
   "metadata": {
    "execution": {
     "iopub.execute_input": "2022-12-21T13:59:52.345856Z",
     "iopub.status.busy": "2022-12-21T13:59:52.345435Z",
     "iopub.status.idle": "2022-12-21T13:59:52.492079Z",
     "shell.execute_reply": "2022-12-21T13:59:52.490432Z"
    },
    "papermill": {
     "duration": 0.156073,
     "end_time": "2022-12-21T13:59:52.495304",
     "exception": false,
     "start_time": "2022-12-21T13:59:52.339231",
     "status": "completed"
    },
    "tags": []
   },
   "outputs": [],
   "source": [
    "import numpy as np, pandas as pd\n",
    "\n",
    "# Read image as a numpy array:\n",
    "df_image = pd.read_csv('../input/santa-2022/image.csv')\n",
    "side = df_image.x.nunique()\n",
    "radius = df_image.x.max()\n",
    "image = df_image[['r','g','b']].values.reshape(side,side,-1)\n",
    "\n",
    "# Flip X axis and transpose X-Y axes to simplify cartesian to array mapping:\n",
    "image = image[::-1,:,:]\n",
    "image = np.transpose(image, (1, 0, 2))"
   ]
  },
  {
   "cell_type": "markdown",
   "id": "2a3895c1",
   "metadata": {
    "papermill": {
     "duration": 0.004386,
     "end_time": "2022-12-21T13:59:52.504948",
     "exception": false,
     "start_time": "2022-12-21T13:59:52.500562",
     "status": "completed"
    },
    "tags": []
   },
   "source": [
    "# Traveling"
   ]
  },
  {
   "cell_type": "markdown",
   "id": "3d8e8761",
   "metadata": {
    "papermill": {
     "duration": 0.004479,
     "end_time": "2022-12-21T13:59:52.514146",
     "exception": false,
     "start_time": "2022-12-21T13:59:52.509667",
     "status": "completed"
    },
    "tags": []
   },
   "source": [
    "In more detail, the algorithm consists of the following simple steps:\n",
    "1. Create a binary array containing a value of 1 for every pixel which has not been visited and a value of 0 for every pixel which has been visited.\n",
    "2. Consider all single-link and double-link steps which end up in a place that we have not visited before, keeping a record of the step with the lowest cost. If it is possible to go one step down, then we go down and ignore all other options. If it is not possible to go down, then we go in the direction of least cost. We always push the arm to go down in order to avoid the creation of unvisited holes in the path, which will be costly to re-visit once we have moved far away.\n",
    "3. If the arm becomes completely surrounded by visited sites (\"stuck condition\"), first we search for the nearest unvisited site, then we use the \"get_path_to_point\" function shared by the organizers in order to reach it in the shortest path.\n",
    "4. Once every single pixel in the travel map has been completely visited, we ask our arm to return to the original configuration through the \"get_path_to_configuration\" function shared by the organizers."
   ]
  },
  {
   "cell_type": "code",
   "execution_count": 3,
   "id": "89c33016",
   "metadata": {
    "execution": {
     "iopub.execute_input": "2022-12-21T13:59:52.528972Z",
     "iopub.status.busy": "2022-12-21T13:59:52.528438Z",
     "iopub.status.idle": "2022-12-21T14:02:42.606975Z",
     "shell.execute_reply": "2022-12-21T14:02:42.605374Z"
    },
    "papermill": {
     "duration": 170.090024,
     "end_time": "2022-12-21T14:02:42.610534",
     "exception": false,
     "start_time": "2022-12-21T13:59:52.520510",
     "status": "completed"
    },
    "tags": []
   },
   "outputs": [
    {
     "data": {
      "application/vnd.jupyter.widget-view+json": {
       "model_id": "b067a00517e540cabcecf71b9ea83e88",
       "version_major": 2,
       "version_minor": 0
      },
      "text/plain": [
       "  0%|          | 0/66048 [00:00<?, ?it/s]"
      ]
     },
     "metadata": {},
     "output_type": "display_data"
    }
   ],
   "source": [
    "# Prepare pixel travel map:\n",
    "unvisited = np.ones([side,side]) # one = unvisited pixel; 0 = visited pixel\n",
    "total = side*side - 1 #total number of pixels minus the origin\n",
    "origin = [(64,0),(-32,0),(-16,0),(-8,0),(-4,0),(-2,0),(-1,0),(-1,0)] #origin configuration\n",
    "config = origin.copy() #future configuration\n",
    "\n",
    "result = [config]\n",
    "pbar = tqdm(total=total)\n",
    "# Continue until all locations have been visited:\n",
    "while(total):\n",
    "    \n",
    "    # Optimization variables:\n",
    "    cost = 1e6\n",
    "    distance = 1e6\n",
    "    found = False\n",
    "    \n",
    "    # Current configuration:\n",
    "    base = get_position(config)\n",
    "    base_arr = (base[0]+radius, base[1]+radius)\n",
    "    unvisited[base_arr] = 0\n",
    "    \n",
    "    # Is the location one step below unvisited?\n",
    "    if base[1]==-128: #if we reached the bottom border\n",
    "        below = 0\n",
    "    else:\n",
    "        below = unvisited[(base_arr[0],base_arr[1]-1)]\n",
    "    \n",
    "    # Single-link step:\n",
    "    for i in range(len(origin)): #for each arm link\n",
    "        for d in [-1,1]: #for each direction\n",
    "            # Rotate link and get new position and vertical displacement:\n",
    "            config2 = rotate(config, i, d)\n",
    "            pos = get_position(config2)\n",
    "            dy = pos[1] - base[1]\n",
    "            \n",
    "            # Convert from cartesian to array coordinates and measure cost:\n",
    "            pos_arr = (pos[0]+radius, pos[1]+radius)\n",
    "            cost2 = 1 + color_cost(base_arr, pos_arr, image)\n",
    "            \n",
    "            # Must move down unless impossible:\n",
    "            if unvisited[pos_arr] and cost2<cost and (dy<0 or (dy>=0 and below==0)): \n",
    "                config_next = config2.copy()\n",
    "                cost = cost2\n",
    "                found = True\n",
    "\n",
    "    # Double-link step:\n",
    "    for i in range(len(origin)-1):\n",
    "        for d1 in [-1,1]:\n",
    "            for j in range(i+1,len(origin)):\n",
    "                for d2 in [-1,1]:\n",
    "                    # Rotate two separate links, get position and vertical displacement:\n",
    "                    config2 = rotate(config, i, d1)\n",
    "                    config2 = rotate(config2, j, d2)\n",
    "                    pos = get_position(config2)\n",
    "                    dy = pos[1] - base[1]\n",
    "                    \n",
    "                    # Convert from cartesian to array coordinates and measure cost:\n",
    "                    pos_arr = (pos[0]+radius, pos[1]+radius)\n",
    "                    cost2 = np.sqrt(2) + color_cost(base_arr, pos_arr, image)\n",
    "                    \n",
    "                    # Must move down unless impossible:\n",
    "                    if(unvisited[pos_arr] and cost2 < cost and below==0): \n",
    "                        config_next = config2.copy()\n",
    "                        cost = cost2\n",
    "                        found = True\n",
    "                        \n",
    "    # If an unvisited point was found, we are done for this step:\n",
    "    if found:\n",
    "        config = config_next.copy()\n",
    "        pos = get_position(config)\n",
    "        total -= 1\n",
    "        pbar.update(1)\n",
    "        result.append(config)\n",
    "        \n",
    "        \n",
    "    # Otherwise, find the nearest unvisited point and go there ignoring the travel map:\n",
    "    else:\n",
    "        # Search every single pixel of the travel map for unvisited points:\n",
    "        for i in range(side): \n",
    "            for j in range(side): \n",
    "                if unvisited[(i,j)]:\n",
    "                    \n",
    "                    # Measure the distance to the current point and choose the nearest one:\n",
    "                    distance2 = np.sqrt((base_arr[0]-i)**2 + (base_arr[1]-j)**2)\n",
    "                    if(distance2 < distance):\n",
    "                        point = (i-radius, j-radius)\n",
    "                        distance = distance2\n",
    "                        \n",
    "        # Go to the nearest unvisited point:\n",
    "        path = get_path_to_point(config, point)[1:]\n",
    "        \n",
    "        # Output shortest trajectory:\n",
    "        for config in path:\n",
    "            pos = get_position(config)\n",
    "            pos_arr = (pos[0]+radius, pos[1]+radius)\n",
    "            \n",
    "            # Update the travel map:\n",
    "            if unvisited[pos_arr]:\n",
    "                unvisited[pos_arr] = 0\n",
    "                total -= 1\n",
    "                pbar.update(1)\n",
    "            \n",
    "            result.append(config)\n",
    "                \n",
    "            base = pos\n",
    "\n",
    "pbar.close()\n",
    "\n",
    "# Return to origin:\n",
    "path = get_path_to_configuration(config, origin)[1:]\n",
    "\n",
    "result.extend(path)\n"
   ]
  },
  {
   "cell_type": "markdown",
   "id": "837f0baa",
   "metadata": {
    "papermill": {
     "duration": 0.008315,
     "end_time": "2022-12-21T14:02:42.624787",
     "exception": false,
     "start_time": "2022-12-21T14:02:42.616472",
     "status": "completed"
    },
    "tags": []
   },
   "source": [
    "## Post Processing"
   ]
  },
  {
   "cell_type": "markdown",
   "id": "1616dac5",
   "metadata": {
    "execution": {
     "iopub.execute_input": "2022-12-21T13:07:59.565067Z",
     "iopub.status.busy": "2022-12-21T13:07:59.564337Z",
     "iopub.status.idle": "2022-12-21T13:07:59.596154Z",
     "shell.execute_reply": "2022-12-21T13:07:59.594532Z",
     "shell.execute_reply.started": "2022-12-21T13:07:59.564711Z"
    },
    "papermill": {
     "duration": 0.004532,
     "end_time": "2022-12-21T14:02:42.635170",
     "exception": false,
     "start_time": "2022-12-21T14:02:42.630638",
     "status": "completed"
    },
    "tags": []
   },
   "source": [
    "It turns out that we can remove points from our path that are visited more than once. Not sure yet how to include this in the visualisation."
   ]
  },
  {
   "cell_type": "code",
   "execution_count": 4,
   "id": "a2f4dfbd",
   "metadata": {
    "execution": {
     "iopub.execute_input": "2022-12-21T14:02:42.649195Z",
     "iopub.status.busy": "2022-12-21T14:02:42.648156Z",
     "iopub.status.idle": "2022-12-21T14:02:42.660604Z",
     "shell.execute_reply": "2022-12-21T14:02:42.659077Z"
    },
    "papermill": {
     "duration": 0.02284,
     "end_time": "2022-12-21T14:02:42.663465",
     "exception": false,
     "start_time": "2022-12-21T14:02:42.640625",
     "status": "completed"
    },
    "tags": []
   },
   "outputs": [],
   "source": [
    "def find_duplicate_points(path):\n",
    "    \n",
    "    duplicate_points = {}\n",
    "\n",
    "    for c in path:\n",
    "\n",
    "        p = get_position(c)\n",
    "\n",
    "        if p != (0,0):\n",
    "            duplicate_points[p] = duplicate_points.get(p, 0) + 1\n",
    "            \n",
    "    return duplicate_points\n",
    "    \n",
    "def vector_diff_one(path):\n",
    "    \n",
    "    for i in range(len(path) - 1):\n",
    "        \n",
    "        for c0, c1 in zip(path[i], path[i+1]):\n",
    "            \n",
    "            if abs(c0[0] - c1[0]) + abs(c0[1] - c1[1]) > 1:\n",
    "#                 print(path[i])\n",
    "#                 print(path[i+1])\n",
    "                return False\n",
    "            \n",
    "    return True\n",
    "\n",
    "def run_remove(path):\n",
    "    \n",
    "    print(\"-- run remove --\")\n",
    "    print(f\"Current length: {len(path)}\")\n",
    "    \n",
    "    duplicate_points = find_duplicate_points(path)\n",
    "\n",
    "    i = len(path) - 2\n",
    "    while i >= 0 :\n",
    "\n",
    "        local_p = path[i:i+3]\n",
    "        p = get_position(local_p[1])\n",
    "\n",
    "        new_local_p = compress_path(local_p)\n",
    "\n",
    "        if vector_diff_one(new_local_p) and duplicate_points.get(p, 0) > 1 and len(new_local_p) < 3:\n",
    "\n",
    "            path = path[:i+1] + path[i+2:]\n",
    "            duplicate_points[p] -= 1\n",
    "\n",
    "        i -= 1\n",
    "\n",
    "\n",
    "    print(f\"New length: {len(path)}\")\n",
    "        \n",
    "    return path"
   ]
  },
  {
   "cell_type": "code",
   "execution_count": 5,
   "id": "e620ca9e",
   "metadata": {
    "execution": {
     "iopub.execute_input": "2022-12-21T14:02:42.677628Z",
     "iopub.status.busy": "2022-12-21T14:02:42.677164Z",
     "iopub.status.idle": "2022-12-21T14:02:48.361043Z",
     "shell.execute_reply": "2022-12-21T14:02:48.360069Z"
    },
    "papermill": {
     "duration": 5.694387,
     "end_time": "2022-12-21T14:02:48.363411",
     "exception": false,
     "start_time": "2022-12-21T14:02:42.669024",
     "status": "completed"
    },
    "tags": []
   },
   "outputs": [
    {
     "name": "stdout",
     "output_type": "stream",
     "text": [
      "-- run remove --\n",
      "Current length: 68189\n",
      "New length: 67494\n",
      "-- run remove --\n",
      "Current length: 67494\n",
      "New length: 67487\n"
     ]
    }
   ],
   "source": [
    "result = run_remove(result)\n",
    "result = run_remove(result)\n"
   ]
  },
  {
   "cell_type": "code",
   "execution_count": 6,
   "id": "5e1714a8",
   "metadata": {
    "execution": {
     "iopub.execute_input": "2022-12-21T14:02:48.375457Z",
     "iopub.status.busy": "2022-12-21T14:02:48.375030Z",
     "iopub.status.idle": "2022-12-21T14:02:48.886100Z",
     "shell.execute_reply": "2022-12-21T14:02:48.885082Z"
    },
    "papermill": {
     "duration": 0.520203,
     "end_time": "2022-12-21T14:02:48.888680",
     "exception": false,
     "start_time": "2022-12-21T14:02:48.368477",
     "status": "completed"
    },
    "tags": []
   },
   "outputs": [
    {
     "data": {
      "text/plain": [
       "0     64 0;-32 0;-16 0;-8 0;-4 0;-2 0;-1 0;-1 0\n",
       "1    64 -1;-32 0;-16 0;-8 0;-4 0;-2 0;-1 0;-1 0\n",
       "2    64 -2;-32 0;-16 0;-8 0;-4 0;-2 0;-1 0;-1 0\n",
       "3    64 -3;-32 0;-16 0;-8 0;-4 0;-2 0;-1 0;-1 0\n",
       "4    64 -4;-32 0;-16 0;-8 0;-4 0;-2 0;-1 0;-1 0\n",
       "Name: configuration, dtype: object"
      ]
     },
     "execution_count": 6,
     "metadata": {},
     "output_type": "execute_result"
    }
   ],
   "source": [
    "submission = pd.Series(\n",
    "    [config_to_string(config) for config in result],\n",
    "    name=\"configuration\",\n",
    ")\n",
    "\n",
    "submission.head()"
   ]
  },
  {
   "cell_type": "code",
   "execution_count": 7,
   "id": "3c029009",
   "metadata": {
    "execution": {
     "iopub.execute_input": "2022-12-21T14:02:48.901339Z",
     "iopub.status.busy": "2022-12-21T14:02:48.900563Z",
     "iopub.status.idle": "2022-12-21T14:02:49.026372Z",
     "shell.execute_reply": "2022-12-21T14:02:49.024741Z"
    },
    "papermill": {
     "duration": 0.135677,
     "end_time": "2022-12-21T14:02:49.029433",
     "exception": false,
     "start_time": "2022-12-21T14:02:48.893756",
     "status": "completed"
    },
    "tags": []
   },
   "outputs": [],
   "source": [
    "submission.to_csv('submission.csv', index=False)"
   ]
  },
  {
   "cell_type": "code",
   "execution_count": null,
   "id": "75c56f8c",
   "metadata": {
    "papermill": {
     "duration": 0.004824,
     "end_time": "2022-12-21T14:02:49.039655",
     "exception": false,
     "start_time": "2022-12-21T14:02:49.034831",
     "status": "completed"
    },
    "tags": []
   },
   "outputs": [],
   "source": []
  }
 ],
 "metadata": {
  "kernelspec": {
   "display_name": "Python 3",
   "language": "python",
   "name": "python3"
  },
  "language_info": {
   "codemirror_mode": {
    "name": "ipython",
    "version": 3
   },
   "file_extension": ".py",
   "mimetype": "text/x-python",
   "name": "python",
   "nbconvert_exporter": "python",
   "pygments_lexer": "ipython3",
   "version": "3.7.12"
  },
  "papermill": {
   "default_parameters": {},
   "duration": 188.237443,
   "end_time": "2022-12-21T14:02:49.869604",
   "environment_variables": {},
   "exception": null,
   "input_path": "__notebook__.ipynb",
   "output_path": "__notebook__.ipynb",
   "parameters": {},
   "start_time": "2022-12-21T13:59:41.632161",
   "version": "2.3.4"
  },
  "widgets": {
   "application/vnd.jupyter.widget-state+json": {
    "state": {
     "160eb2ec9cee4a39bffec3d84b8b97ce": {
      "model_module": "@jupyter-widgets/base",
      "model_module_version": "1.2.0",
      "model_name": "LayoutModel",
      "state": {
       "_model_module": "@jupyter-widgets/base",
       "_model_module_version": "1.2.0",
       "_model_name": "LayoutModel",
       "_view_count": null,
       "_view_module": "@jupyter-widgets/base",
       "_view_module_version": "1.2.0",
       "_view_name": "LayoutView",
       "align_content": null,
       "align_items": null,
       "align_self": null,
       "border": null,
       "bottom": null,
       "display": null,
       "flex": null,
       "flex_flow": null,
       "grid_area": null,
       "grid_auto_columns": null,
       "grid_auto_flow": null,
       "grid_auto_rows": null,
       "grid_column": null,
       "grid_gap": null,
       "grid_row": null,
       "grid_template_areas": null,
       "grid_template_columns": null,
       "grid_template_rows": null,
       "height": null,
       "justify_content": null,
       "justify_items": null,
       "left": null,
       "margin": null,
       "max_height": null,
       "max_width": null,
       "min_height": null,
       "min_width": null,
       "object_fit": null,
       "object_position": null,
       "order": null,
       "overflow": null,
       "overflow_x": null,
       "overflow_y": null,
       "padding": null,
       "right": null,
       "top": null,
       "visibility": null,
       "width": null
      }
     },
     "1dbb3a977da04ccbb6a1bf8b00223b1b": {
      "model_module": "@jupyter-widgets/base",
      "model_module_version": "1.2.0",
      "model_name": "LayoutModel",
      "state": {
       "_model_module": "@jupyter-widgets/base",
       "_model_module_version": "1.2.0",
       "_model_name": "LayoutModel",
       "_view_count": null,
       "_view_module": "@jupyter-widgets/base",
       "_view_module_version": "1.2.0",
       "_view_name": "LayoutView",
       "align_content": null,
       "align_items": null,
       "align_self": null,
       "border": null,
       "bottom": null,
       "display": null,
       "flex": null,
       "flex_flow": null,
       "grid_area": null,
       "grid_auto_columns": null,
       "grid_auto_flow": null,
       "grid_auto_rows": null,
       "grid_column": null,
       "grid_gap": null,
       "grid_row": null,
       "grid_template_areas": null,
       "grid_template_columns": null,
       "grid_template_rows": null,
       "height": null,
       "justify_content": null,
       "justify_items": null,
       "left": null,
       "margin": null,
       "max_height": null,
       "max_width": null,
       "min_height": null,
       "min_width": null,
       "object_fit": null,
       "object_position": null,
       "order": null,
       "overflow": null,
       "overflow_x": null,
       "overflow_y": null,
       "padding": null,
       "right": null,
       "top": null,
       "visibility": null,
       "width": null
      }
     },
     "4718cd7dd66b48309cb5f0499d31e312": {
      "model_module": "@jupyter-widgets/controls",
      "model_module_version": "1.5.0",
      "model_name": "HTMLModel",
      "state": {
       "_dom_classes": [],
       "_model_module": "@jupyter-widgets/controls",
       "_model_module_version": "1.5.0",
       "_model_name": "HTMLModel",
       "_view_count": null,
       "_view_module": "@jupyter-widgets/controls",
       "_view_module_version": "1.5.0",
       "_view_name": "HTMLView",
       "description": "",
       "description_tooltip": null,
       "layout": "IPY_MODEL_1dbb3a977da04ccbb6a1bf8b00223b1b",
       "placeholder": "​",
       "style": "IPY_MODEL_8de232de50ae4fffa0bcc3733c11164a",
       "value": " 66048/66048 [02:49&lt;00:00, 419.05it/s]"
      }
     },
     "4d10f2adc4674623a3b7dcd8be3f0499": {
      "model_module": "@jupyter-widgets/controls",
      "model_module_version": "1.5.0",
      "model_name": "DescriptionStyleModel",
      "state": {
       "_model_module": "@jupyter-widgets/controls",
       "_model_module_version": "1.5.0",
       "_model_name": "DescriptionStyleModel",
       "_view_count": null,
       "_view_module": "@jupyter-widgets/base",
       "_view_module_version": "1.2.0",
       "_view_name": "StyleView",
       "description_width": ""
      }
     },
     "5aadbddc1628453c9b3e182fd48777f3": {
      "model_module": "@jupyter-widgets/base",
      "model_module_version": "1.2.0",
      "model_name": "LayoutModel",
      "state": {
       "_model_module": "@jupyter-widgets/base",
       "_model_module_version": "1.2.0",
       "_model_name": "LayoutModel",
       "_view_count": null,
       "_view_module": "@jupyter-widgets/base",
       "_view_module_version": "1.2.0",
       "_view_name": "LayoutView",
       "align_content": null,
       "align_items": null,
       "align_self": null,
       "border": null,
       "bottom": null,
       "display": null,
       "flex": null,
       "flex_flow": null,
       "grid_area": null,
       "grid_auto_columns": null,
       "grid_auto_flow": null,
       "grid_auto_rows": null,
       "grid_column": null,
       "grid_gap": null,
       "grid_row": null,
       "grid_template_areas": null,
       "grid_template_columns": null,
       "grid_template_rows": null,
       "height": null,
       "justify_content": null,
       "justify_items": null,
       "left": null,
       "margin": null,
       "max_height": null,
       "max_width": null,
       "min_height": null,
       "min_width": null,
       "object_fit": null,
       "object_position": null,
       "order": null,
       "overflow": null,
       "overflow_x": null,
       "overflow_y": null,
       "padding": null,
       "right": null,
       "top": null,
       "visibility": null,
       "width": null
      }
     },
     "6ed7a306c00149c59975a2735e3afc0f": {
      "model_module": "@jupyter-widgets/controls",
      "model_module_version": "1.5.0",
      "model_name": "FloatProgressModel",
      "state": {
       "_dom_classes": [],
       "_model_module": "@jupyter-widgets/controls",
       "_model_module_version": "1.5.0",
       "_model_name": "FloatProgressModel",
       "_view_count": null,
       "_view_module": "@jupyter-widgets/controls",
       "_view_module_version": "1.5.0",
       "_view_name": "ProgressView",
       "bar_style": "success",
       "description": "",
       "description_tooltip": null,
       "layout": "IPY_MODEL_160eb2ec9cee4a39bffec3d84b8b97ce",
       "max": 66048.0,
       "min": 0.0,
       "orientation": "horizontal",
       "style": "IPY_MODEL_edce3fdde5b54facb697574faefb60f6",
       "value": 66048.0
      }
     },
     "8de232de50ae4fffa0bcc3733c11164a": {
      "model_module": "@jupyter-widgets/controls",
      "model_module_version": "1.5.0",
      "model_name": "DescriptionStyleModel",
      "state": {
       "_model_module": "@jupyter-widgets/controls",
       "_model_module_version": "1.5.0",
       "_model_name": "DescriptionStyleModel",
       "_view_count": null,
       "_view_module": "@jupyter-widgets/base",
       "_view_module_version": "1.2.0",
       "_view_name": "StyleView",
       "description_width": ""
      }
     },
     "b067a00517e540cabcecf71b9ea83e88": {
      "model_module": "@jupyter-widgets/controls",
      "model_module_version": "1.5.0",
      "model_name": "HBoxModel",
      "state": {
       "_dom_classes": [],
       "_model_module": "@jupyter-widgets/controls",
       "_model_module_version": "1.5.0",
       "_model_name": "HBoxModel",
       "_view_count": null,
       "_view_module": "@jupyter-widgets/controls",
       "_view_module_version": "1.5.0",
       "_view_name": "HBoxView",
       "box_style": "",
       "children": [
        "IPY_MODEL_fc994bdf538d4267ac917801f6c74ed4",
        "IPY_MODEL_6ed7a306c00149c59975a2735e3afc0f",
        "IPY_MODEL_4718cd7dd66b48309cb5f0499d31e312"
       ],
       "layout": "IPY_MODEL_dae7500ff77b437097ffab734ca54ea8"
      }
     },
     "dae7500ff77b437097ffab734ca54ea8": {
      "model_module": "@jupyter-widgets/base",
      "model_module_version": "1.2.0",
      "model_name": "LayoutModel",
      "state": {
       "_model_module": "@jupyter-widgets/base",
       "_model_module_version": "1.2.0",
       "_model_name": "LayoutModel",
       "_view_count": null,
       "_view_module": "@jupyter-widgets/base",
       "_view_module_version": "1.2.0",
       "_view_name": "LayoutView",
       "align_content": null,
       "align_items": null,
       "align_self": null,
       "border": null,
       "bottom": null,
       "display": null,
       "flex": null,
       "flex_flow": null,
       "grid_area": null,
       "grid_auto_columns": null,
       "grid_auto_flow": null,
       "grid_auto_rows": null,
       "grid_column": null,
       "grid_gap": null,
       "grid_row": null,
       "grid_template_areas": null,
       "grid_template_columns": null,
       "grid_template_rows": null,
       "height": null,
       "justify_content": null,
       "justify_items": null,
       "left": null,
       "margin": null,
       "max_height": null,
       "max_width": null,
       "min_height": null,
       "min_width": null,
       "object_fit": null,
       "object_position": null,
       "order": null,
       "overflow": null,
       "overflow_x": null,
       "overflow_y": null,
       "padding": null,
       "right": null,
       "top": null,
       "visibility": null,
       "width": null
      }
     },
     "edce3fdde5b54facb697574faefb60f6": {
      "model_module": "@jupyter-widgets/controls",
      "model_module_version": "1.5.0",
      "model_name": "ProgressStyleModel",
      "state": {
       "_model_module": "@jupyter-widgets/controls",
       "_model_module_version": "1.5.0",
       "_model_name": "ProgressStyleModel",
       "_view_count": null,
       "_view_module": "@jupyter-widgets/base",
       "_view_module_version": "1.2.0",
       "_view_name": "StyleView",
       "bar_color": null,
       "description_width": ""
      }
     },
     "fc994bdf538d4267ac917801f6c74ed4": {
      "model_module": "@jupyter-widgets/controls",
      "model_module_version": "1.5.0",
      "model_name": "HTMLModel",
      "state": {
       "_dom_classes": [],
       "_model_module": "@jupyter-widgets/controls",
       "_model_module_version": "1.5.0",
       "_model_name": "HTMLModel",
       "_view_count": null,
       "_view_module": "@jupyter-widgets/controls",
       "_view_module_version": "1.5.0",
       "_view_name": "HTMLView",
       "description": "",
       "description_tooltip": null,
       "layout": "IPY_MODEL_5aadbddc1628453c9b3e182fd48777f3",
       "placeholder": "​",
       "style": "IPY_MODEL_4d10f2adc4674623a3b7dcd8be3f0499",
       "value": "100%"
      }
     }
    },
    "version_major": 2,
    "version_minor": 0
   }
  }
 },
 "nbformat": 4,
 "nbformat_minor": 5
}
